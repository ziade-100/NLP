{
 "cells": [
  {
   "cell_type": "markdown",
   "id": "35246243",
   "metadata": {},
   "source": [
    "<h1> Word Embedding</h1>"
   ]
  },
  {
   "cell_type": "markdown",
   "id": "f390fd10",
   "metadata": {},
   "source": [
    "<p>Word embedding is a technique in natural language processing (NLP) where words or phrases from a vocabulary are mapped to vectors of real numbers. This representation captures semantic meaning, enabling the model to understand context, similarity, and relationships between words.</p>\n",
    "<p> The basic idea behind word embeddings is that words that are used in similar contexts tend to have similar meanings.</p>"
   ]
  },
  {
   "cell_type": "markdown",
   "id": "76e714f8",
   "metadata": {},
   "source": [
    "<h2>Techniques of Word Embedding</h2>\n",
    "<ul> \n",
    "      <li> Word2Vec</li>\n",
    "       <li> Glove</li>\n",
    "       <li> FastText</li>\n",
    "    <li> BERT</li>\n",
    "    </ul>"
   ]
  },
  {
   "cell_type": "code",
   "execution_count": null,
   "id": "2c02fb4d",
   "metadata": {},
   "outputs": [],
   "source": []
  }
 ],
 "metadata": {
  "kernelspec": {
   "display_name": "Python 3 (ipykernel)",
   "language": "python",
   "name": "python3"
  },
  "language_info": {
   "codemirror_mode": {
    "name": "ipython",
    "version": 3
   },
   "file_extension": ".py",
   "mimetype": "text/x-python",
   "name": "python",
   "nbconvert_exporter": "python",
   "pygments_lexer": "ipython3",
   "version": "3.11.4"
  }
 },
 "nbformat": 4,
 "nbformat_minor": 5
}
