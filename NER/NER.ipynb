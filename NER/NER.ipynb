{
 "cells": [
  {
   "cell_type": "markdown",
   "id": "0089ea86",
   "metadata": {},
   "source": [
    "<p>In this project, I am going to implement Named Entity Recognition (NER) with Flair NLP on data scraped from Yahoo News to identify the most mentioned places and people in the news headlines.</p>\n",
    "<p>The steps I will follow to accomplish the project are:</p>\n",
    "<ol>\n",
    "    <li>Scraping the website</li>\n",
    "    <li>Preprocessing the data</li>\n",
    "    <li>Implementing NER with Flair</li>\n",
    "    <li>Visualizing the results</li>\n",
    "</ol>\n",
    "  "
   ]
  },
  {
   "cell_type": "code",
   "execution_count": 189,
   "id": "3ac0c721",
   "metadata": {},
   "outputs": [],
   "source": [
    "# importing Packages \n",
    "import requests \n",
    "from bs4 import BeautifulSoup\n",
    "import pandas as pd\n",
    "import matplotlib.pyplot as plt\n",
    "from flair.data import Sentence \n",
    "from flair.models import SequenceTagger "
   ]
  },
  {
   "cell_type": "markdown",
   "id": "5417e1ac",
   "metadata": {},
   "source": [
    "#### Web Scrapping "
   ]
  },
  {
   "cell_type": "code",
   "execution_count": 167,
   "id": "060e4416",
   "metadata": {},
   "outputs": [],
   "source": [
    "# Function to scrape health news\n",
    "def scrape_health_news(url):\n",
    "    response = requests.get(url)\n",
    "    soup = BeautifulSoup(response.text, 'html.parser')\n",
    "    # Find the <body> tag\n",
    "    body = soup.find('body')\n",
    "    \n",
    "    # Find all <h3> elements within the <body>\n",
    "    headline_elements = body.find_all('h3')\n",
    "    headlines = []\n",
    "    \n",
    "    for element in headline_elements:\n",
    "        headline = element.get_text(strip=True)\n",
    "        headlines.append(headline)\n",
    "    \n",
    "    return headlines"
   ]
  },
  {
   "cell_type": "code",
   "execution_count": 168,
   "id": "4b906f3c",
   "metadata": {},
   "outputs": [],
   "source": [
    "url = \"https://news.yahoo.com/\""
   ]
  },
  {
   "cell_type": "code",
   "execution_count": 169,
   "id": "a0f5a783",
   "metadata": {},
   "outputs": [],
   "source": [
    "headlines = scrape_health_news(url)"
   ]
  },
  {
   "cell_type": "code",
   "execution_count": 171,
   "id": "3daf7b51",
   "metadata": {},
   "outputs": [
    {
     "data": {
      "text/plain": [
       "['News',\n",
       " 'Life',\n",
       " 'Entertainment',\n",
       " 'Finance',\n",
       " 'Sports',\n",
       " 'New on Yahoo',\n",
       " 'Experts disagree on whether Trump will go to prison',\n",
       " 'Will it matter? Searching for clues in the polls about a Trump conviction.',\n",
       " \"Angelina Jolie and Brad Pitt's daughter Shiloh files to change her name\",\n",
       " 'Texas town deploys snow plows after 2 feet of hail, 50-degree temperature swing',\n",
       " 'Fossil hunter stumbles across million-dollar find in Colorado',\n",
       " \"There's a program to cancel private student debt. Most don't know about it.\",\n",
       " 'Trump verdict live updates: Trump to speak at 11 a.m. after being convicted on 34 criminal charges',\n",
       " \"Trump found guilty on all 34 counts of falsifying business records. Here's a breakdown.\",\n",
       " \"FAQ: Can Trump still run for president? Can he still vote? Here's what the guilty verdict means\",\n",
       " '2024 election: Your guide to all the key primaries, debates and what happens next',\n",
       " 'Money-Grubbing Felon’s Wild Warning to MAGA: Back Off',\n",
       " 'Top Five Absurd Republican Reactions to Trump’s Guilty Verdict',\n",
       " 'Politics, lack of leadership in Miami-Dade public schools are hurting Black students. Let’s fix it| Opinion',\n",
       " \"Trump's new brotherhood: The former president joins leaders from around the world who have criminal convictions\",\n",
       " '\"The Beatles for me are it\": Darius Rucker reflects on early musical influences, courtesy of his mom',\n",
       " 'Susan Collins’s Really Dumb Trump Defense Reveals the GOP’s Sickness',\n",
       " \"I was diagnosed with a severe fear of giving birth while I was pregnant. I'm not having any more kids.\",\n",
       " 'Ivanka Trump Offers Four Measly Words of Support to Felon Dad',\n",
       " 'My dog of 9 years recently passed away. The grief of losing a pet surprised me.',\n",
       " 'Guilty: Is Trumpism a Movement or a Cult?',\n",
       " 'Parents banned phones. Their teens somehow survived.',\n",
       " 'Donald Trump was done in by his own defense',\n",
       " \"A complete timeline of Prince Harry and Meghan Markle's rift with Prince William and Kate Middleton\",\n",
       " 'Convicted Felon Trump’s Idiot Lawyer Doubles Down on Absurd Defense',\n",
       " \"They went on a honeymoon to Europe. Then 60 seconds of hell in the air turned it into an experience they'll never forget.\",\n",
       " 'Celebrities who died in 2024',\n",
       " 'Heat added Delon Wright, Patty Mills in middle of the season. Will their time with Heat continue?',\n",
       " \"Video shows Ukrainian sea drones striking 2 ships, as Ukraine continues to harass Russia's Black Sea Fleet\",\n",
       " 'The 9 best movies on Netflix in June',\n",
       " \"'Friends' star Jennifer Aniston sets boundaries when it comes to auditioning: 'I would never'\",\n",
       " \"California progressive chides fellow Democrats before voting to make child solicitation a felony: 'I'm done'\",\n",
       " '70 years after landmark ruling, California’s Black schoolchildren still face steep obstacles',\n",
       " 'The US-China military relationship is in tatters. This is one of the last chances to save it.',\n",
       " \"Ukraine's special forces have developed new tech that allows drones to fly without GPS, so Russia can't jam them: report\",\n",
       " 'Driver flees after fatally striking pedestrian on 101 Freeway in Los Angeles',\n",
       " 'Tattoos may increase risk of developing lymphoma, alarming new study finds',\n",
       " 'Florida’s GOP senators hold up Biden’s nomination of top  lawyer for federal judge',\n",
       " 'Fox News ‘Antisemitism Exposed’ Newsletter: Bill Maher schools lefty comic on the politics of Jew hatred',\n",
       " \"De Niro says Trump guilty verdict means 'justice was served'\",\n",
       " \"RFK Jr unleashes on Biden, Dems after accusing them of 'weaponizing' courts against Trump\",\n",
       " 'Does pineapple belong on pizza? 4 Sacramento restaurant owners sound off on controversy',\n",
       " 'Best restaurant meals I ate around Sacramento in May | Food reporter’s notebook',\n",
       " 'Reclaim Sacramento Japantown dedicates new mural to ancestor’s lost history. Take a look',\n",
       " 'The Sacramento region’s most underrated Vietnamese restaurants, as chosen by readers',\n",
       " \"Largest virtual power plant in U.S. to provide low-cost electricity amid extreme heat: 'More resilient for everyone'\",\n",
       " 'Cannabis lounges are the final frontier for marijuana consumption in Sacramento | Opinion',\n",
       " 'California Northstate University sued for data breach. It’s the latest of lawsuits against it',\n",
       " 'Local brand ‘Sacramento Hates You Too’ defends the capital city from haters | Opinion',\n",
       " '‘Noche de bodas’:..\\xa0dos fiestas matrimoniales que se convierten en zafarranchos alucinógenos',\n",
       " 'California inmates fight wildfires — but if prisons can’t supply enough crews, what’s next?',\n",
       " 'See kid high-five an alligator and other cute moments at Sacramento hospital visit',\n",
       " \"Trump is a convicted felon. Here's what it means for the former president.\",\n",
       " 'How does the Waffle House help you gauge hurricane danger? See what can happen',\n",
       " '2 killed in fiery crash on 405 Freeway; NB lanes closed in Culver City area',\n",
       " 'Trump fires warning shot to Biden as he gets ready to hit campaign trail again and more top headlines',\n",
       " \"'It's a majestic day:' MSNBC guest gushes over Trump guilty verdict, calls it 'a day for celebration'\",\n",
       " 'Yahoo News 360',\n",
       " 'Weather',\n",
       " 'Weather']"
      ]
     },
     "execution_count": 171,
     "metadata": {},
     "output_type": "execute_result"
    }
   ],
   "source": [
    "headlines"
   ]
  },
  {
   "cell_type": "code",
   "execution_count": 174,
   "id": "ce1848ca",
   "metadata": {},
   "outputs": [
    {
     "name": "stdout",
     "output_type": "stream",
     "text": [
      "2024-05-31 07:55:57,454 SequenceTagger predicts: Dictionary with 20 tags: <unk>, O, S-ORG, S-MISC, B-PER, E-PER, S-LOC, B-ORG, E-ORG, I-PER, S-PER, B-MISC, I-MISC, E-MISC, I-ORG, B-LOC, E-LOC, I-LOC, <START>, <STOP>\n"
     ]
    }
   ],
   "source": [
    "# Load the NER tagger\n",
    "tagger = SequenceTagger.load('ner')"
   ]
  },
  {
   "cell_type": "code",
   "execution_count": 177,
   "id": "0ded15be",
   "metadata": {},
   "outputs": [],
   "source": [
    "# Function to extract named entities\n",
    "def extract_entities(headlines):\n",
    "    entities = {'PER': [], 'LOC': []}  # PER for persons, LOC for locations\n",
    "    \n",
    "    for headline in headlines:\n",
    "        sentence = Sentence(headline)\n",
    "        tagger.predict(sentence)\n",
    "        \n",
    "        for entity in sentence.get_spans('ner'):\n",
    "            if entity.tag in entities:\n",
    "                entities[entity.tag].append(entity.text)\n",
    "    \n",
    "    return entities"
   ]
  },
  {
   "cell_type": "code",
   "execution_count": 180,
   "id": "49d3b2db",
   "metadata": {},
   "outputs": [],
   "source": [
    "# Extract entities from headlines\n",
    "entities = extract_entities(headlines)"
   ]
  },
  {
   "cell_type": "code",
   "execution_count": 195,
   "id": "ab69b6ec",
   "metadata": {},
   "outputs": [
    {
     "data": {
      "text/plain": [
       "{'PER': ['Trump',\n",
       "  'Angelina Jolie',\n",
       "  'Brad Pitt',\n",
       "  'Shiloh',\n",
       "  'Trump',\n",
       "  'Trump',\n",
       "  'Trump',\n",
       "  'Trump',\n",
       "  'Darius Rucker',\n",
       "  'Susan Collins',\n",
       "  'Ivanka Trump',\n",
       "  'Donald Trump',\n",
       "  'Prince Harry',\n",
       "  'Meghan Markle',\n",
       "  'William',\n",
       "  'Kate Middleton',\n",
       "  'Felon Trump',\n",
       "  'Delon Wright',\n",
       "  'Patty Mills',\n",
       "  'Jennifer Aniston',\n",
       "  'Biden',\n",
       "  'Bill Maher',\n",
       "  'De Niro',\n",
       "  'Trump',\n",
       "  'Biden',\n",
       "  'Trump',\n",
       "  'Trump',\n",
       "  'Trump',\n",
       "  'Biden',\n",
       "  'Trump'],\n",
       " 'LOC': ['Texas',\n",
       "  'Colorado',\n",
       "  'Miami-Dade',\n",
       "  'Europe',\n",
       "  'Ukraine',\n",
       "  'Russia',\n",
       "  'California',\n",
       "  'California',\n",
       "  'Ukraine',\n",
       "  'Russia',\n",
       "  'Los Angeles',\n",
       "  'Florida',\n",
       "  'Sacramento',\n",
       "  'Sacramento',\n",
       "  'Sacramento Japantown',\n",
       "  'Sacramento',\n",
       "  'U.S.',\n",
       "  'Sacramento',\n",
       "  'California',\n",
       "  'Sacramento',\n",
       "  'Waffle House',\n",
       "  'NB',\n",
       "  'Culver City']}"
      ]
     },
     "execution_count": 195,
     "metadata": {},
     "output_type": "execute_result"
    }
   ],
   "source": [
    "entities"
   ]
  },
  {
   "cell_type": "code",
   "execution_count": 181,
   "id": "b15952e0",
   "metadata": {},
   "outputs": [],
   "source": [
    "from collections import Counter"
   ]
  },
  {
   "cell_type": "code",
   "execution_count": 182,
   "id": "24494889",
   "metadata": {},
   "outputs": [],
   "source": [
    "# Count the occurrences of each entity\n",
    "def count_entities(entities):\n",
    "    entity_counts = {}\n",
    "    for entity_type, entity_list in entities.items():\n",
    "        entity_counts[entity_type] = Counter(entity_list)\n",
    "    return entity_counts"
   ]
  },
  {
   "cell_type": "code",
   "execution_count": 209,
   "id": "c91bcfc0",
   "metadata": {},
   "outputs": [],
   "source": [
    "# Get the most common entities\n",
    "def get_most_common_entities(entity_counts, n=10):\n",
    "    most_common_entities = {}\n",
    "    for entity_type, counts in entity_counts.items():\n",
    "        most_common_entities[entity_type] = counts.most_common(n)\n",
    "    return most_common_entities"
   ]
  },
  {
   "cell_type": "code",
   "execution_count": 210,
   "id": "dcac02e4",
   "metadata": {},
   "outputs": [],
   "source": [
    "# Count entities\n",
    "entity_counts = count_entities(entities)"
   ]
  },
  {
   "cell_type": "code",
   "execution_count": 211,
   "id": "76e12ed7",
   "metadata": {},
   "outputs": [],
   "source": [
    "# Get most common entities\n",
    "most_common_entities = get_most_common_entities(entity_counts)"
   ]
  },
  {
   "cell_type": "code",
   "execution_count": 212,
   "id": "f19b9c61",
   "metadata": {},
   "outputs": [
    {
     "name": "stdout",
     "output_type": "stream",
     "text": [
      "Most mentioned names: [('Trump', 10), ('Biden', 3), ('Angelina Jolie', 1), ('Brad Pitt', 1), ('Shiloh', 1), ('Darius Rucker', 1), ('Susan Collins', 1), ('Ivanka Trump', 1), ('Donald Trump', 1), ('Prince Harry', 1)]\n"
     ]
    }
   ],
   "source": [
    "# Display the most common names and places\n",
    "print(\"Most mentioned names:\", most_common_entities.get('PER', []))"
   ]
  },
  {
   "cell_type": "code",
   "execution_count": 213,
   "id": "22a98822",
   "metadata": {},
   "outputs": [
    {
     "name": "stdout",
     "output_type": "stream",
     "text": [
      "Most mentioned places: [('Sacramento', 5), ('California', 3), ('Ukraine', 2), ('Russia', 2), ('Texas', 1), ('Colorado', 1), ('Miami-Dade', 1), ('Europe', 1), ('Los Angeles', 1), ('Florida', 1)]\n"
     ]
    }
   ],
   "source": [
    "print(\"Most mentioned places:\", most_common_entities.get('LOC', []))"
   ]
  },
  {
   "cell_type": "code",
   "execution_count": 214,
   "id": "c014ac03",
   "metadata": {},
   "outputs": [
    {
     "data": {
      "text/plain": [
       "('Trump', 10)"
      ]
     },
     "execution_count": 214,
     "metadata": {},
     "output_type": "execute_result"
    }
   ],
   "source": [
    "most_common_entities['PER'][0]"
   ]
  },
  {
   "cell_type": "code",
   "execution_count": 215,
   "id": "12bc0c42",
   "metadata": {},
   "outputs": [],
   "source": [
    "# Function to plot bar chart\n",
    "def plot_bar_chart(data, entity_type):\n",
    "    entities, counts = zip(*data)\n",
    "    plt.figure(figsize=(8, 4))\n",
    "    plt.bar(entities, counts, color='blue')\n",
    "    plt.xlabel('Entities')\n",
    "    plt.ylabel('Count')\n",
    "    plt.title(f'Most Common {entity_type}s')\n",
    "    plt.xticks(rotation=45, ha='right')\n",
    "    plt.tight_layout()\n",
    "    plt.show()"
   ]
  },
  {
   "cell_type": "code",
   "execution_count": 216,
   "id": "101e160e",
   "metadata": {},
   "outputs": [
    {
     "data": {
      "image/png": "[encoded data removed]",
      "text/plain": [
       "<Figure size 800x400 with 1 Axes>"
      ]
     },
     "metadata": {},
     "output_type": "display_data"
    }
   ],
   "source": [
    "# Plot most common names\n",
    "plot_bar_chart(most_common_entities['PER'], 'Name')"
   ]
  },
  {
   "cell_type": "code",
   "execution_count": 217,
   "id": "3c8714f2",
   "metadata": {},
   "outputs": [
    {
     "data": {
      "image/png": "[encoded data removed]",
      "text/plain": [
       "<Figure size 800x400 with 1 Axes>"
      ]
     },
     "metadata": {},
     "output_type": "display_data"
    }
   ],
   "source": [
    "# Plot most common places\n",
    "plot_bar_chart(most_common_entities['LOC'], 'Place')"
   ]
  },
  {
   "cell_type": "code",
   "execution_count": null,
   "id": "be565d0e",
   "metadata": {},
   "outputs": [],
   "source": []
  }
 ],
 "metadata": {
  "kernelspec": {
   "display_name": "Python 3 (ipykernel)",
   "language": "python",
   "name": "python3"
  },
  "language_info": {
   "codemirror_mode": {
    "name": "ipython",
    "version": 3
   },
   "file_extension": ".py",
   "mimetype": "text/x-python",
   "name": "python",
   "nbconvert_exporter": "python",
   "pygments_lexer": "ipython3",
   "version": "3.11.4"
  }
 },
 "nbformat": 4,
 "nbformat_minor": 5
}
